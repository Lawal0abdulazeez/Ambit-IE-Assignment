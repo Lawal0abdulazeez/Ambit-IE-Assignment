{
 "cells": [
  {
   "cell_type": "code",
   "execution_count": null,
   "id": "b7b24c82-8f6b-46cd-bc66-b09361081858",
   "metadata": {},
   "outputs": [],
   "source": [
    "url = f\"https://www.screener.in/company/{symbol}/consolidated/"
   ]
  },
  {
   "cell_type": "code",
   "execution_count": 23,
   "id": "4c130850-e886-4f4a-978d-01ccbf7b09e5",
   "metadata": {},
   "outputs": [
    {
     "name": "stdout",
     "output_type": "stream",
     "text": [
      "38.2\n"
     ]
    }
   ],
   "source": [
    "import requests\n",
    "from bs4 import BeautifulSoup\n",
    "\n",
    "# Specify the URL\n",
    "url = 'https://www.screener.in/company/POLYPLEX/consolidated/'  # Replace with your actual URL\n",
    "\n",
    "# Fetch the HTML content from the URL\n",
    "response = requests.get(url)\n",
    "\n",
    "# Check if the request was successful\n",
    "if response.status_code == 200:\n",
    "    # Create a BeautifulSoup object\n",
    "    soup = BeautifulSoup(response.text, 'html.parser')\n",
    "\n",
    "    # Find all li elements with the specified class\n",
    "    li_elements = soup.find_all('li', class_='flex flex-space-between')\n",
    "\n",
    "    # Initialize a variable to hold the number\n",
    "    number = None\n",
    "\n",
    "    # Iterate through the li elements to find 'Stock P/E'\n",
    "    for li in li_elements:\n",
    "        name_element = li.find('span', class_='name')\n",
    "        if name_element and 'Stock P/E' in name_element.text:\n",
    "            # If 'Stock P/E' is found, get the corresponding number span\n",
    "            number_element = li.find('span', class_='number')\n",
    "            if number_element:\n",
    "                number = number_element.text\n",
    "                break  # Exit the loop once the number is found\n",
    "\n",
    "    # Print the extracted number\n",
    "    if number:\n",
    "        print(number)  # This will print the number corresponding to 'Stock P/E'\n",
    "    else:\n",
    "        print(\"Stock P/E not found.\")\n",
    "else:\n",
    "    print(f\"Failed to retrieve the page. Status code: {response.status_code}\")\n"
   ]
  },
  {
   "cell_type": "code",
   "execution_count": 31,
   "id": "6e833f60-b737-487d-bb28-7f1e5aa9f4bc",
   "metadata": {},
   "outputs": [
    {
     "name": "stdout",
     "output_type": "stream",
     "text": [
      "Nestle India Ltd\n"
     ]
    }
   ],
   "source": [
    "# Specify the URL\n",
    "url = 'https://www.screener.in/company/500790/consolidated/'  # Replace with your actual URL\n",
    "\n",
    "# Fetch the HTML content from the URL\n",
    "response = requests.get(url)\n",
    "\n",
    "\n",
    "# Create a BeautifulSoup object\n",
    "soup = BeautifulSoup(response.text, 'html.parser')\n",
    "\n",
    "# Find the <h1> element with the specified class\n",
    "h1_element = soup.find('h1', class_='h2 shrink-text')\n",
    "\n",
    "# Get the text content from the h1 element\n",
    "if h1_element:\n",
    "    company_name = h1_element.text\n",
    "    print(company_name)  # Output: Polyplex Corporation Ltd\n",
    "else:\n",
    "    print(\"Element not found.\")"
   ]
  },
  {
   "cell_type": "code",
   "execution_count": 30,
   "id": "52619791-c08c-44d4-b4f8-a9e4df8e4367",
   "metadata": {},
   "outputs": [
    {
     "name": "stdout",
     "output_type": "stream",
     "text": [
      "POLYPLEX\n"
     ]
    }
   ],
   "source": [
    "import requests\n",
    "from bs4 import BeautifulSoup\n",
    "\n",
    "# Specify the URL\n",
    "url = 'https://www.screener.in/company/POLYPLEX/consolidated/'  # Replace with your actual URL\n",
    "\n",
    "# Fetch the HTML content from the URL\n",
    "response = requests.get(url)\n",
    "\n",
    "\n",
    "# Create a BeautifulSoup object\n",
    "soup = BeautifulSoup(response.text, 'html.parser')\n",
    "\n",
    "\n",
    "# Find all <span> elements with the specified class\n",
    "span_elements = soup.find_all('span', class_='ink-700 upper')\n",
    "\n",
    "# Iterate through each span element and check if it contains 'NSE:'\n",
    "for span in span_elements:\n",
    "    text = span.get_text(strip=True)  # Get the text content\n",
    "    if 'NSE:' in text:  # Check if the text contains 'NSE:'\n",
    "        # Split the text after 'NSE:' and get the part that follows\n",
    "        nse_value = text.split('NSE:')[-1].strip()\n",
    "        print(nse_value)  # Output: POLYPLEX"
   ]
  },
  {
   "cell_type": "code",
   "execution_count": 33,
   "id": "3c47d65c-f800-4eb5-843a-82c6b5ecb566",
   "metadata": {},
   "outputs": [
    {
     "name": "stdout",
     "output_type": "stream",
     "text": [
      "3,613\n"
     ]
    }
   ],
   "source": [
    "import requests\n",
    "from bs4 import BeautifulSoup\n",
    "\n",
    "# Specify the URL\n",
    "url = 'https://www.screener.in/company/POLYPLEX/consolidated/'  # Replace with your actual URL\n",
    "\n",
    "# Fetch the HTML content from the URL\n",
    "response = requests.get(url)\n",
    "\n",
    "# Check if the request was successful\n",
    "if response.status_code == 200:\n",
    "    # Create a BeautifulSoup object\n",
    "    soup = BeautifulSoup(response.text, 'html.parser')\n",
    "\n",
    "    # Find all li elements with the specified class\n",
    "    li_elements = soup.find_all('li', class_='flex flex-space-between')\n",
    "\n",
    "    # Initialize a variable to hold the number\n",
    "    number = None\n",
    "\n",
    "    # Iterate through the li elements to find 'Stock P/E'\n",
    "    for li in li_elements:\n",
    "        name_element = li.find('span', class_='name')\n",
    "        if name_element and 'Market Cap' in name_element.text:\n",
    "            # If 'Stock P/E' is found, get the corresponding number span\n",
    "            number_element = li.find('span', class_='number')\n",
    "            if number_element:\n",
    "                number = number_element.text\n",
    "                break  # Exit the loop once the number is found\n",
    "\n",
    "    # Print the extracted number\n",
    "    if number:\n",
    "        print(number)  # This will print the number corresponding to 'Stock P/E'\n",
    "    else:\n",
    "        print(\"Stock P/E not found.\")\n",
    "else:\n",
    "    print(f\"Failed to retrieve the page. Status code: {response.status_code}\")\n"
   ]
  },
  {
   "cell_type": "code",
   "execution_count": 35,
   "id": "b6bddbad-d111-40a1-b663-335ba0419ead",
   "metadata": {},
   "outputs": [
    {
     "data": {
      "text/plain": [
       "'17'"
      ]
     },
     "execution_count": 35,
     "metadata": {},
     "output_type": "execute_result"
    }
   ],
   "source": [
    "import requests\n",
    "from bs4 import BeautifulSoup\n",
    "\n",
    "# Specify the URL\n",
    "url = 'https://www.screener.in/company/POLYPLEX/consolidated/'  # Replace with your actual URL\n",
    "\n",
    "# Fetch the HTML content from the URL\n",
    "response = requests.get(url)\n",
    "\n",
    "\n",
    "# Create a BeautifulSoup object\n",
    "soup = BeautifulSoup(response.text, 'html.parser')\n",
    "\n",
    "\n",
    "# Find the table by its class name\n",
    "table = soup.find('table', class_='data-table')\n",
    "\n",
    "# Initialize a list to store the extracted data\n",
    "data = []\n",
    "\n",
    "# Iterate over each row in the table body (tbody)\n",
    "for row in table.tbody.find_all('tr'):\n",
    "    # Extract all cells (td elements) in the row\n",
    "    cells = row.find_all('td')\n",
    "    \n",
    "    # Get the text content of each cell and strip any extra spaces\n",
    "    row_data = [cell.get_text(strip=True) for cell in cells]\n",
    "    \n",
    "    # Append the cleaned row data to the main data list\n",
    "    data.append(row_data)\n",
    "\n",
    "# Iterate through the data to find the list that starts with 'Net Profit+'\n",
    "net_profit_list = []\n",
    "for lst in data:\n",
    "    if lst[0] == 'Net Profit+':\n",
    "        net_profit_list = lst\n",
    "        break\n",
    "\n",
    "# Get the 12th item from the 'Net Profit+' list (index 11)\n",
    "twelfth_item = net_profit_list[11] if len(net_profit_list) > 11 else None\n",
    "twelfth_item"
   ]
  },
  {
   "cell_type": "code",
   "execution_count": 52,
   "id": "a720adf2-2da3-4cbf-8d9b-46a0ea6da26c",
   "metadata": {},
   "outputs": [
    {
     "name": "stdout",
     "output_type": "stream",
     "text": [
      "[['Sales+', '7,135', '8,051', '8,468', '7,594', '6,130', '8,116', '10,073', '9,440', '10,457', '13,938', '16,911', '18,590', '19,562'], ['Expenses+', '6,461', '7,274', '7,713', '6,798', '5,315', '7,083', '8,885', '8,374', '8,868', '12,163', '15,290', '16,709', '17,550'], ['Operating Profit', '674', '777', '755', '796', '815', '1,033', '1,189', '1,067', '1,589', '1,775', '1,621', '1,881', '2,013'], ['OPM %', '9%', '10%', '9%', '10%', '13%', '13%', '12%', '11%', '15%', '13%', '10%', '10%', '10%'], ['Other Income+', '222', '35', '48', '949', '42', '97', '124', '107', '187', '159', '178', '249', '261'], ['Interest', '123', '102', '96', '91', '13', '25', '16', '51', '90', '67', '55', '84', '46'], ['Depreciation', '110', '116', '139', '134', '121', '140', '149', '218', '249', '261', '296', '338', '354'], ['Profit before tax', '664', '594', '569', '1,520', '723', '965', '1,147', '904', '1,438', '1,607', '1,447', '1,707', '1,874'], ['Tax %', '12%', '25%', '32%', '14%', '32%', '31%', '31%', '19%', '27%', '26%', '26%', '26%', ''], ['Net Profit+', '581', '446', '385', '1,300', '494', '661', '788', '735', '1,044', '1,196', '1,072', '1,271', '1,391'], ['EPS in Rs', '9.32', '7.15', '6.17', '20.82', '7.91', '10.60', '12.59', '11.75', '16.68', '19.10', '17.11', '20.28', '22.20'], ['Dividend Payout %', '16%', '42%', '49%', '29%', '44%', '4%', '36%', '34%', '39%', '39%', '44%', '44%', '']]\n",
      "14\n",
      "Twelfth item from Net Profit+ list: 1,271\n"
     ]
    }
   ],
   "source": [
    "import requests\n",
    "from bs4 import BeautifulSoup\n",
    "\n",
    "# Specify the URL\n",
    "url = 'https://www.screener.in/company/havells/consolidated/'  # Replace with your actual URL\n",
    "\n",
    "# Fetch the HTML content from the URL\n",
    "response = requests.get(url)\n",
    "\n",
    "# Create a BeautifulSoup object\n",
    "soup = BeautifulSoup(response.text, 'html.parser')\n",
    "\n",
    "# Find all tables by their class name (this will give us all the tables with the class 'data-table')\n",
    "tables = soup.find_all('table', class_='data-table')\n",
    "\n",
    "# Check if there are at least two tables\n",
    "if len(tables) > 1:\n",
    "    # Work with the second table\n",
    "    table = tables[1]\n",
    "\n",
    "    # Initialize a list to store the extracted data\n",
    "    data = []\n",
    "\n",
    "    # Iterate over each row in the table body (tbody)\n",
    "    for row in table.tbody.find_all('tr'):\n",
    "        # Extract all cells (td elements) in the row\n",
    "        cells = row.find_all('td')\n",
    "\n",
    "        # Get the text content of each cell and strip any extra spaces\n",
    "        row_data = [cell.get_text(strip=True) for cell in cells]\n",
    "\n",
    "        # Append the cleaned row data to the main data list\n",
    "        data.append(row_data)\n",
    "    print(data)\n",
    "\n",
    "    # Iterate through the data to find the list that starts with 'Net Profit+'\n",
    "    net_profit_list = []\n",
    "    for lst in data:\n",
    "        if lst[0] == 'Net Profit+':\n",
    "            net_profit_list = lst\n",
    "            break\n",
    "    print(len(net_profit_list))\n",
    "    # Get the 12th item from the 'Net Profit+' list (index 11)\n",
    "    twelfth_item = net_profit_list[12] if len(net_profit_list) > 12 else None\n",
    "    print(f'Twelfth item from Net Profit+ list: {twelfth_item}')\n",
    "else:\n",
    "    print(\"Less than 2 tables found with the class 'data-table'.\")\n"
   ]
  },
  {
   "cell_type": "code",
   "execution_count": null,
   "id": "728a3745-1392-4fe6-b475-3d6a8b26d46a",
   "metadata": {},
   "outputs": [],
   "source": []
  },
  {
   "cell_type": "code",
   "execution_count": null,
   "id": "c91996b2-6569-4aca-b90c-877f92ee083c",
   "metadata": {},
   "outputs": [],
   "source": []
  },
  {
   "cell_type": "code",
   "execution_count": 75,
   "id": "2141ec0b-dcfc-47a9-b032-2642a972c51a",
   "metadata": {},
   "outputs": [
    {
     "name": "stdout",
     "output_type": "stream",
     "text": [
      "The value in the sixth row and sixth column is: 27%\n"
     ]
    }
   ],
   "source": [
    "import requests\n",
    "from bs4 import BeautifulSoup\n",
    "\n",
    "# Specify the URL\n",
    "url = 'https://www.screener.in/company/havells/consolidated/'  # Replace with your actual URL\n",
    "\n",
    "# Fetch the HTML content from the URL\n",
    "response = requests.get(url)\n",
    "\n",
    "# Create a BeautifulSoup object\n",
    "soup = BeautifulSoup(response.text, 'html.parser')\n",
    "\n",
    "# Find all tables on the page\n",
    "tables = soup.find_all('table', class_='data-table responsive-text-nowrap')\n",
    "\n",
    "table = tables[4]\n",
    "# Find all rows in the table body (tbody)\n",
    "rows = table.find('tbody').find_all('tr')\n",
    "\n",
    "# Extract the sixth row (index 5)\n",
    "sixth_row = rows[5]\n",
    "\n",
    "# Extract the sixth column (index 5) in that row\n",
    "sixth_column_value = sixth_row.find_all('td')[6].text.strip()\n",
    "\n",
    "print(f\"The value in the sixth row and sixth column is: {sixth_column_value}\")\n"
   ]
  },
  {
   "cell_type": "code",
   "execution_count": null,
   "id": "72457a1b-ab94-47f1-a4d6-a2abad93398b",
   "metadata": {},
   "outputs": [],
   "source": []
  },
  {
   "cell_type": "code",
   "execution_count": 90,
   "id": "32063933-3a8d-4b0e-bb1f-ecb21404cc37",
   "metadata": {},
   "outputs": [
    {
     "data": {
      "text/html": [
       "<div>\n",
       "<style scoped>\n",
       "    .dataframe tbody tr th:only-of-type {\n",
       "        vertical-align: middle;\n",
       "    }\n",
       "\n",
       "    .dataframe tbody tr th {\n",
       "        vertical-align: top;\n",
       "    }\n",
       "\n",
       "    .dataframe thead th {\n",
       "        text-align: right;\n",
       "    }\n",
       "</style>\n",
       "<table border=\"1\" class=\"dataframe\">\n",
       "  <thead>\n",
       "    <tr style=\"text-align: right;\">\n",
       "      <th></th>\n",
       "      <th>10 yrs</th>\n",
       "      <th>5 yrs</th>\n",
       "      <th>3 yrs</th>\n",
       "      <th>TTM</th>\n",
       "    </tr>\n",
       "  </thead>\n",
       "  <tbody>\n",
       "    <tr>\n",
       "      <th>Sales Growth</th>\n",
       "      <td>9</td>\n",
       "      <td>13</td>\n",
       "      <td>21</td>\n",
       "      <td>12</td>\n",
       "    </tr>\n",
       "    <tr>\n",
       "      <th>Profit Growth</th>\n",
       "      <td>11</td>\n",
       "      <td>10</td>\n",
       "      <td>8</td>\n",
       "      <td>25</td>\n",
       "    </tr>\n",
       "  </tbody>\n",
       "</table>\n",
       "</div>"
      ],
      "text/plain": [
       "              10 yrs 5 yrs 3 yrs TTM\n",
       "Sales Growth       9    13    21  12\n",
       "Profit Growth     11    10     8  25"
      ]
     },
     "execution_count": 90,
     "metadata": {},
     "output_type": "execute_result"
    }
   ],
   "source": [
    "import requests\n",
    "from bs4 import BeautifulSoup\n",
    "import pandas as pd\n",
    "\n",
    "# Specify the URL\n",
    "#url = 'your-website-url'  # Replace with your actual URL\n",
    "url = 'https://www.screener.in/company/havells/consolidated/'  # Replace with your actual URL\n",
    "\n",
    "# Fetch the HTML content from the URL\n",
    "response = requests.get(url)\n",
    "\n",
    "# Create a BeautifulSoup object\n",
    "soup = BeautifulSoup(response.text, 'html.parser')\n",
    "\n",
    "# Extract the first table (Compounded Sales Growth)\n",
    "sales_table = soup.find_all('table', class_='ranges-table')[0]\n",
    "sales_rows = sales_table.find_all('tr')\n",
    "\n",
    "# Extract the second table (Compounded Profit Growth)\n",
    "profit_table = soup.find_all('table', class_='ranges-table')[1]\n",
    "profit_rows = profit_table.find_all('tr')\n",
    "\n",
    "# Extract the values from the sales table\n",
    "sales_growth_10yrs = sales_rows[1].find_all('td')[1].text.strip('%')\n",
    "sales_growth_5yrs = sales_rows[2].find_all('td')[1].text.strip('%')\n",
    "sales_growth_3yrs = sales_rows[3].find_all('td')[1].text.strip('%')\n",
    "sales_growth_ttm = sales_rows[4].find_all('td')[1].text.strip('%')\n",
    "\n",
    "# Extract the values from the profit table\n",
    "profit_growth_10yrs = profit_rows[1].find_all('td')[1].text.strip('%')\n",
    "profit_growth_5yrs = profit_rows[2].find_all('td')[1].text.strip('%')\n",
    "profit_growth_3yrs = profit_rows[3].find_all('td')[1].text.strip('%')\n",
    "profit_growth_ttm = profit_rows[4].find_all('td')[1].text.strip('%')\n",
    "\n",
    "# Creating a new table with Pandas\n",
    "data = {\n",
    "    '': ['10 yrs', '5 yrs', '3 yrs', 'TTM'],\n",
    "    'Sales Growth': [sales_growth_10yrs, sales_growth_5yrs, sales_growth_3yrs, sales_growth_ttm],\n",
    "    'Profit Growth': [profit_growth_10yrs, profit_growth_5yrs, profit_growth_3yrs, profit_growth_ttm]\n",
    "}\n",
    "\n",
    "# Create the DataFrame\n",
    "df = pd.DataFrame(data)\n",
    "\n",
    "df = df.T\n",
    "\n",
    "# Set the first row as the column names\n",
    "df.columns = df.iloc[0]  # Set first row as column names\n",
    "df = df.drop(df.index[0])  # Drop the first row\n",
    "\n",
    "df\n"
   ]
  }
 ],
 "metadata": {
  "kernelspec": {
   "display_name": "Python 3 (ipykernel)",
   "language": "python",
   "name": "python3"
  },
  "language_info": {
   "codemirror_mode": {
    "name": "ipython",
    "version": 3
   },
   "file_extension": ".py",
   "mimetype": "text/x-python",
   "name": "python",
   "nbconvert_exporter": "python",
   "pygments_lexer": "ipython3",
   "version": "3.11.7"
  }
 },
 "nbformat": 4,
 "nbformat_minor": 5
}
